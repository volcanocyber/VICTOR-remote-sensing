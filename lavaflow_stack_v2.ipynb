{
 "cells": [
  {
   "cell_type": "code",
   "execution_count": null,
   "metadata": {},
   "outputs": [],
   "source": [
    "## Load necessary modules\n",
    "\n",
    "import asf_search as asf\n",
    "import geopandas as gpd\n",
    "import pandas as pd\n",
    "\n",
    "import numpy as np\n",
    "from netrc import netrc\n",
    "from subprocess import Popen\n",
    "from platform import system\n",
    "from getpass import getpass\n",
    "import folium\n",
    "import datetime as dt\n",
    "from shapely.geometry import box\n",
    "from shapely.geometry import Point\n",
    "import shapely.wkt as wkt\n",
    "import rioxarray\n",
    "import numpy as np\n",
    "import matplotlib.pyplot as plt\n",
    "import matplotlib.patches as patches\n",
    "import cartopy.crs as ccrs\n",
    "import xarray as xr\n",
    "from rasterio.plot import show\n",
    "\n",
    "\n",
    "# %watermark --iversions\n",
    "\n",
    "import os"
   ]
  },
  {
   "cell_type": "code",
   "execution_count": null,
   "metadata": {},
   "outputs": [],
   "source": [
    "## Avoid lots of these warnings printing to notebook from asf_search\n",
    "import warnings\n",
    "warnings.filterwarnings('ignore')"
   ]
  },
  {
   "cell_type": "code",
   "execution_count": null,
   "metadata": {},
   "outputs": [],
   "source": [
    "# Generates authentication token\n",
    "# Asks for your Earthdata username and password for first time, if netrc does not exists.\n",
    "\n",
    "urs = 'urs.earthdata.nasa.gov'    # Earthdata URL endpoint for authentication\n",
    "prompts = ['Enter NASA Earthdata Login Username: ',\n",
    "           'Enter NASA Earthdata Login Password: ']\n",
    "\n",
    "# Determine the OS (Windows machines usually use an '_netrc' file)\n",
    "netrc_name = \"_netrc\" if system()==\"Windows\" else \".netrc\"\n",
    "\n",
    "# Determine if netrc file exists, and if so, if it includes NASA Earthdata Login Credentials\n",
    "try:\n",
    "    netrcDir = os.path.expanduser(f\"~/{netrc_name}\")\n",
    "    netrc(netrcDir).authenticators(urs)[0]\n",
    "\n",
    "# Below, create a netrc file and prompt user for NASA Earthdata Login Username and Password\n",
    "except FileNotFoundError:\n",
    "    homeDir = os.path.expanduser(\"~\")\n",
    "    Popen('touch {0}{2} | echo machine {1} >> {0}{2}'.format(homeDir + os.sep, urs, netrc_name), shell=True)\n",
    "    Popen('echo login {} >> {}{}'.format(getpass(prompt=prompts[0]), homeDir + os.sep, netrc_name), shell=True)\n",
    "    Popen('echo \\'password {} \\'>> {}{}'.format(getpass(prompt=prompts[1]), homeDir + os.sep, netrc_name), shell=True)\n",
    "    # Set restrictive permissions\n",
    "    Popen('chmod 0600 {0}{1}'.format(homeDir + os.sep, netrc_name), shell=True)\n",
    "\n",
    "    # Determine OS and edit netrc file if it exists but is not set up for NASA Earthdata Login\n",
    "except TypeError:\n",
    "    homeDir = os.path.expanduser(\"~\")\n",
    "    Popen('echo machine {1} >> {0}{2}'.format(homeDir + os.sep, urs, netrc_name), shell=True)\n",
    "    Popen('echo login {} >> {}{}'.format(getpass(prompt=prompts[0]), homeDir + os.sep, netrc_name), shell=True)\n",
    "    Popen('echo \\'password {} \\'>> {}{}'.format(getpass(prompt=prompts[1]), homeDir + os.sep, netrc_name), shell=True)\n"
   ]
  },
  {
   "cell_type": "code",
   "execution_count": null,
   "metadata": {},
   "outputs": [],
   "source": [
    "## Enter user-defined parameters\n",
    "aoi = Point(-22.3709, 63.9031) #box(-155.88, 19.0, -155.014, 20.1962)     # (W, S, E, N)\n",
    "wavelength = 0.056\n",
    "orbitPass = \"DESCENDING\"\n",
    "pathNumber = 155\n",
    "referenceDate = dt.datetime.fromisoformat('2024-02-01 00:00:00')         #'YYYY-MM-DD HH:MM:SS'\n",
    "secondaryDate = dt.datetime.fromisoformat('2024-10-30 23:59:59')         #'YYYY-MM-DD HH:MM:SS'\n",
    "savedir = './'"
   ]
  },
  {
   "cell_type": "code",
   "execution_count": null,
   "metadata": {},
   "outputs": [],
   "source": [
    "## Search for OPERA RTC data in ASF DAAC\n",
    "search_params = dict(\n",
    "    intersectsWith= aoi.wkt,\n",
    "    dataset='OPERA-S1',\n",
    "    processingLevel='RTC',\n",
    "    # flightDirection = orbitPass,\n",
    "    start=referenceDate,\n",
    "    end=secondaryDate\n",
    ")\n",
    "\n",
    "## Return results\n",
    "results = asf.search(**search_params)\n",
    "len(results)"
   ]
  },
  {
   "cell_type": "code",
   "execution_count": null,
   "metadata": {},
   "outputs": [],
   "source": [
    "## Display the queried data\n",
    "gf = gpd.GeoDataFrame.from_features(results.geojson(), crs='EPSG:4326')\n",
    "gf.head()"
   ]
  },
  {
   "cell_type": "code",
   "execution_count": null,
   "metadata": {},
   "outputs": [],
   "source": [
    "gf.keys()"
   ]
  },
  {
   "cell_type": "code",
   "execution_count": null,
   "metadata": {},
   "outputs": [],
   "source": [
    "## Filter data based on specified track number\n",
    "# gf = gf[gf.pathNumber==pathNumber]\n",
    "rtc_df = gf[['operaBurstID', 'fileID', 'polarization', 'startTime', 'stopTime', 'url', 'additionalUrls', 'geometry']]\n",
    "rtc_df['startTime'] = pd.to_datetime(rtc_df.startTime).dt.date\n",
    "rtc_df['stopTime'] = pd.to_datetime(rtc_df.stopTime).dt.date\n",
    "rtc_df = rtc_df.drop_duplicates(subset=['operaBurstID', 'startTime'], ignore_index=True)\n",
    "rtc_df"
   ]
  },
  {
   "cell_type": "code",
   "execution_count": null,
   "metadata": {},
   "outputs": [],
   "source": [
    "rtc_df = rtc_df.sort_values(by=[\"startTime\"], ignore_index=True)\n",
    "rtc_df"
   ]
  },
  {
   "cell_type": "code",
   "execution_count": null,
   "metadata": {},
   "outputs": [],
   "source": [
    "## Basemap function for Folium\n",
    "def getbasemaps():\n",
    "    # Add custom base maps to folium\n",
    "    basemaps = {\n",
    "        'Google Satellite Hybrid': folium.TileLayer(\n",
    "            tiles = 'https://mt1.google.com/vt/lyrs=y&x={x}&y={y}&z={z}',\n",
    "            attr = 'Google',\n",
    "            name = 'Google Satellite',\n",
    "            overlay = True,\n",
    "            control = True,\n",
    "            # opacity = 0.8,\n",
    "            show = False\n",
    "        ),\n",
    "        'Esri Satellite': folium.TileLayer(\n",
    "            tiles = 'https://server.arcgisonline.com/ArcGIS/rest/services/World_Imagery/MapServer/tile/{z}/{y}/{x}',\n",
    "            attr = 'Esri',\n",
    "            name = 'Esri Satellite',\n",
    "            overlay = True,\n",
    "            control = True,\n",
    "            #opacity = 0.8,\n",
    "            show = False\n",
    "        )\n",
    "    }\n",
    "    return basemaps"
   ]
  },
  {
   "cell_type": "code",
   "execution_count": null,
   "metadata": {},
   "outputs": [],
   "source": [
    "# Interactive map to visualize the boundaries of the selected OPERA CSLCs\n",
    "m = folium.Map(location=[aoi.centroid.y, aoi.centroid.x], zoom_start=8, tiles=\"CartoDB positron\")\n",
    "\n",
    "# Add custom basemaps\n",
    "basemaps = getbasemaps()\n",
    "for basemap in basemaps:\n",
    "    basemaps[basemap].add_to(m)\n",
    "\n",
    "# layer Control\n",
    "m.add_child(folium.LayerControl())\n",
    "\n",
    "## RLE sites\n",
    "for _, r in rtc_df.iterrows():\n",
    "    sim_geo = gpd.GeoSeries(r[\"geometry\"]).simplify(tolerance=0.001)\n",
    "    geo_j = sim_geo.to_json()\n",
    "    geo_j = folium.GeoJson(data=geo_j, style_function=lambda x: {\"color\": \"red\"}, control=False)\n",
    "    folium.Popup(r[\"operaBurstID\"]).add_to(geo_j)\n",
    "    geo_j.add_to(m)\n",
    "\n",
    "m"
   ]
  },
  {
   "cell_type": "code",
   "execution_count": null,
   "metadata": {},
   "outputs": [],
   "source": [
    "## Download the relevant OPERA RTCs to a temporary \"rtc\" folder \n",
    "os.makedirs(f'{savedir}/rtc', exist_ok='True')\n",
    "asf.download_urls(urls=rtc_df.url, path=f'{savedir}/rtc', processes=10)\n",
    "asf.download_urls(urls=rtc_df.additionalUrls.explode(ignore_index=True), path=f'{savedir}/rtc', processes=10)"
   ]
  },
  {
   "cell_type": "code",
   "execution_count": null,
   "metadata": {},
   "outputs": [],
   "source": [
    "def read_rtc(tiffile):\n",
    "    rtc = xr.open_dataset(tiffile)\n",
    "    epsg = rtc.rio.crs.to_proj4()\n",
    "\n",
    "    return rtc, epsg"
   ]
  },
  {
   "cell_type": "code",
   "execution_count": null,
   "metadata": {},
   "outputs": [],
   "source": [
    "aoi = 'POLYGON((-22.5124 63.8204,-22.3171 63.8204,-22.3171 63.9565,-22.5124 63.9565,-22.5124 63.8204))' #'POLYGON((-22.4965 63.8422,-22.3054 63.8422,-22.3054 63.9227,-22.4965 63.9227,-22.4965 63.8422))'\n",
    "aoi_xorigin = wkt.loads(aoi).bounds[0]\n",
    "aoi_yorigin = wkt.loads(aoi).bounds[1]\n",
    "aoi_dx = np.abs(wkt.loads(aoi).bounds[2] - wkt.loads(aoi).bounds[0])\n",
    "aoi_dy = np.abs(wkt.loads(aoi).bounds[3] - wkt.loads(aoi).bounds[1])"
   ]
  },
  {
   "cell_type": "code",
   "execution_count": null,
   "metadata": {
    "scrolled": true
   },
   "outputs": [],
   "source": [
    "#load rtc\n",
    "vv_stack = []; vv_dates = []; vh_stack = []; ratio_stack = []\n",
    "for i, fileID, start_date, bounding_polygon in zip(rtc_df.index, rtc_df.fileID, rtc_df.startTime, rtc_df.geometry):\n",
    "    # Get VV\n",
    "    vv, epsg = read_rtc(f\"{savedir}/rtc/{fileID}_VV.tif\")\n",
    "    vv = vv.rio.clip([wkt.loads(aoi)], \"epsg:4326\")\n",
    "    vv_ = 10*np.log10(vv.band_data.values[0])\n",
    "    vv_stack.append(vv_)\n",
    "    vv_dates.append(pd.to_datetime(start_date).date())\n",
    "\n",
    "    # Plot\n",
    "    rtc_poly = bounding_polygon\n",
    "    bbox = [rtc_poly.bounds[0], rtc_poly.bounds[2], rtc_poly.bounds[1], rtc_poly.bounds[3]]\n",
    "    \n",
    "    fig, ax = plt.subplots(figsize=(12, 3))\n",
    "    cax=ax.imshow(vv_, cmap='gray',interpolation=None, origin='upper', extent=bbox, vmin=np.nanpercentile(vv_,2), vmax=np.nanpercentile(vv_,98))\n",
    "    # roi = patches.Rectangle((aoi_xorigin,aoi_yorigin),aoi_dx,aoi_dy,edgecolor='red', facecolor='none')\n",
    "    # ax.add_patch(roi)\n",
    "    cbar = fig.colorbar(cax,orientation='vertical',fraction=0.01,pad=0.02)\n",
    "    ax.set_xlabel('Longitude')\n",
    "    ax.set_ylabel('Latitude')\n",
    "    ax.set_title(f'VV_{pd.to_datetime(start_date).date()}',fontsize=12)\n",
    "\n",
    "    ## Get VH\n",
    "    vh, epsg = read_rtc(f\"{savedir}/rtc/{fileID}_VH.tif\")\n",
    "    vh = vh.rio.clip([wkt.loads(aoi)], \"epsg:4326\")\n",
    "    vh_ = 10*np.log10(vh.band_data.values[0])\n",
    "    vh_stack.append(vh_)\n",
    "\n",
    "    # Plot    \n",
    "    fig, ax = plt.subplots(figsize=(12, 3))\n",
    "    cax=ax.imshow(vh_, cmap='gray',interpolation=None, origin='upper', extent=bbox, vmin=np.nanpercentile(vh_,2), vmax=np.nanpercentile(vh_,98))\n",
    "    # roi = patches.Rectangle((aoi_xorigin,aoi_yorigin),aoi_dx,aoi_dy,edgecolor='red', facecolor='none')\n",
    "    # ax.add_patch(roi)\n",
    "    cbar = fig.colorbar(cax,orientation='vertical',fraction=0.01,pad=0.02)\n",
    "    ax.set_xlabel('Longitude')\n",
    "    ax.set_ylabel('Latitude')\n",
    "    ax.set_title(f'VH_{pd.to_datetime(start_date).date()}',fontsize=12)\n",
    "\n",
    "    # Calculate for ratio\n",
    "    ratio = np.log10(vv_/vh_)\n",
    "    ratio_stack.append(ratio)\n",
    "\n",
    "    # Plot    \n",
    "    fig, ax = plt.subplots(figsize=(12, 3))\n",
    "    cax=ax.imshow(ratio, cmap='gray',interpolation=None, origin='upper', extent=bbox, vmin=np.nanpercentile(ratio,2), vmax=np.nanpercentile(ratio,98))\n",
    "    # roi = patches.Rectangle((aoi_xorigin,aoi_yorigin),aoi_dx,aoi_dy,edgecolor='red', facecolor='none')\n",
    "    # ax.add_patch(roi)\n",
    "    cbar = fig.colorbar(cax,orientation='vertical',fraction=0.01,pad=0.02)\n",
    "    ax.set_xlabel('Longitude')\n",
    "    ax.set_ylabel('Latitude')\n",
    "    ax.set_title(f'RATIO_{pd.to_datetime(start_date).date()}',fontsize=12)"
   ]
  },
  {
   "cell_type": "code",
   "execution_count": null,
   "metadata": {},
   "outputs": [],
   "source": [
    "vv_band = xr.DataArray(vv_stack, coords=dict(time=vv_dates, y=vv.y, x=vv.x, spatial_ref=vv.spatial_ref), dims=(\"time\", \"y\", \"x\"))\n",
    "vh_band = xr.DataArray(vh_stack, coords=dict(time=vv_dates, y=vv.y, x=vv.x, spatial_ref=vv.spatial_ref), dims=(\"time\", \"y\", \"x\"))\n",
    "ratio_band = xr.DataArray(ratio_stack, coords=dict(time=vv_dates, y=vv.y, x=vv.x, spatial_ref=vv.spatial_ref), dims=(\"time\", \"y\", \"x\"))\n",
    "\n",
    "band_var = xr.Variable('band', range(1,4))\n",
    "combined = xr.concat([vv_band, vh_band, ratio_band], dim=band_var)\n",
    "combined"
   ]
  },
  {
   "cell_type": "markdown",
   "metadata": {},
   "source": [
    "# Create Geocube"
   ]
  },
  {
   "cell_type": "code",
   "execution_count": null,
   "metadata": {},
   "outputs": [],
   "source": [
    "ds = combined.copy()\n",
    "ds.rio.write_crs(f\"epsg:{epsg.split(':')[-1]}\", inplace=True)"
   ]
  },
  {
   "cell_type": "code",
   "execution_count": null,
   "metadata": {},
   "outputs": [],
   "source": [
    "from pyproj import Transformer\n",
    "xv, yv = np.meshgrid(ds.x, ds.y)\n",
    "\n",
    "transformer = Transformer.from_crs(f\"epsg:{epsg.split(':')[-1]}\", \n",
    "                                   \"epsg:4326\",\n",
    "                                   always_xy=True,\n",
    "                                  ) \n",
    "\n",
    "lon, lat = transformer.transform(xv, yv)\n",
    "ds.coords['lon'] = (('y', 'x'), lon)\n",
    "ds.coords['lat'] = (('y', 'x'), lat)\n",
    "ds.attrs['crs']  = '+init=epsg:4326'"
   ]
  },
  {
   "cell_type": "code",
   "execution_count": null,
   "metadata": {},
   "outputs": [],
   "source": [
    "rgb_bands = [1,2,3]\n",
    "ds_crop = ds.rio.clip([wkt.loads(aoi)], \"epsg:4326\")\n",
    "ds_crop.sel(band=rgb_bands).plot.imshow(col='time',add_colorbar=True, robust=True, col_wrap=5)"
   ]
  },
  {
   "cell_type": "code",
   "execution_count": null,
   "metadata": {},
   "outputs": [],
   "source": [
    "ds.sel(band=1).rio.clip([wkt.loads(aoi)], \"epsg:4326\").plot(col='time', robust=True, y='lat', x='lon', col_wrap=5)"
   ]
  },
  {
   "cell_type": "code",
   "execution_count": null,
   "metadata": {},
   "outputs": [],
   "source": [
    "ds.sel(band=2).rio.clip([wkt.loads(aoi)], \"epsg:4326\").plot(col='time', robust=True, y='lat', x='lon', col_wrap=5)"
   ]
  },
  {
   "cell_type": "code",
   "execution_count": null,
   "metadata": {},
   "outputs": [],
   "source": [
    "ds.sel(band=3).rio.clip([wkt.loads(aoi)], \"epsg:4326\").plot(col='time', y='lat', x='lon', robust=True, col_wrap=5)"
   ]
  },
  {
   "cell_type": "code",
   "execution_count": null,
   "metadata": {},
   "outputs": [],
   "source": [
    "date12_vv = ds.sel(band=1).rio.clip([wkt.loads(aoi)], \"epsg:4326\").isel(time=1) - ds.sel(band=1).rio.clip([wkt.loads(aoi)], \"epsg:4326\").isel(time=-4)\n",
    "date12_vh = ds.sel(band=2).rio.clip([wkt.loads(aoi)], \"epsg:4326\").isel(time=1)  - ds.sel(band=2).rio.clip([wkt.loads(aoi)], \"epsg:4326\").isel(time=-4)\n",
    "date12_ratio = ds.sel(band=3).rio.clip([wkt.loads(aoi)], \"epsg:4326\").isel(time=1)  - ds.sel(band=3).rio.clip([wkt.loads(aoi)], \"epsg:4326\").isel(time=-4)"
   ]
  },
  {
   "cell_type": "code",
   "execution_count": null,
   "metadata": {},
   "outputs": [],
   "source": [
    "date12_vv.plot(y='lat', x='lon', levels=10, cmap='RdBu_r', robust=True, figsize=(8,6)); plt.title(f\"Log Difference: VV ({vv_dates[1].strftime('%Y%m%d')}-{vv_dates[-4].strftime('%Y%m%d')})\")"
   ]
  },
  {
   "cell_type": "code",
   "execution_count": null,
   "metadata": {},
   "outputs": [],
   "source": [
    "date12_vh.plot(y='lat', x='lon', levels=10, cmap='RdBu_r', robust=True, figsize=(8,6)); plt.title(f\"Log Difference: VH ({vv_dates[1].strftime('%Y%m%d')}-{vv_dates[-4].strftime('%Y%m%d')})\")"
   ]
  },
  {
   "cell_type": "code",
   "execution_count": null,
   "metadata": {},
   "outputs": [],
   "source": [
    "date12_ratio.plot(y='lat', x='lon', levels=10, cmap='RdBu_r', robust=True, figsize=(8,6)); plt.title(f\"Log Difference: VV/VH ({vv_dates[1].strftime('%Y%m%d')}-{vv_dates[-4].strftime('%Y%m%d')})\")"
   ]
  },
  {
   "cell_type": "code",
   "execution_count": null,
   "metadata": {},
   "outputs": [],
   "source": [
    "before = (ds.sel(band=1).rio.clip([wkt.loads(aoi)], \"epsg:4326\").isel(time=slice(0, len(ds.time)-1)))\n",
    "after = (ds.sel(band=1).rio.clip([wkt.loads(aoi)], \"epsg:4326\").isel(time=slice(1, len(ds.time))))\n",
    "# diff = before.values-after.values        ## sequential analysis\n",
    "diff = np.tile(before.values[0],(len(after), 1,1))-after.values        ##single reference"
   ]
  },
  {
   "cell_type": "code",
   "execution_count": null,
   "metadata": {},
   "outputs": [],
   "source": [
    "time = []\n",
    "for i in range(0,len(ds.time)-1):\n",
    "    # time.append(f\"{ds.time.values[i].strftime('%Y%m%d')}-{ds.time.values[i+1].strftime('%Y%m%d')}\")   ## for sequential analysis\n",
    "    time.append(f\"{ds.time.values[0].strftime('%Y%m%d')}-{ds.time.values[i+1].strftime('%Y%m%d')}\")     ## single reference date\n",
    "\n",
    "time"
   ]
  },
  {
   "cell_type": "code",
   "execution_count": null,
   "metadata": {},
   "outputs": [],
   "source": [
    "diff_vv = xr.DataArray(diff, coords=dict(date=time, y=before.lat, x=before.lon, spatial_ref=before.spatial_ref), dims=(\"date\", \"y\", \"x\"))\n",
    "diff_vv.plot(col='date', robust=True, y='y', x='x', col_wrap=4)"
   ]
  },
  {
   "cell_type": "code",
   "execution_count": null,
   "metadata": {},
   "outputs": [],
   "source": [
    "before = (ds.sel(band=2).rio.clip([wkt.loads(aoi)], \"epsg:4326\").isel(time=slice(0, len(ds.time)-1)))\n",
    "after = (ds.sel(band=2).rio.clip([wkt.loads(aoi)], \"epsg:4326\").isel(time=slice(1, len(ds.time))))\n",
    "# diff = before.values-after.values        ## sequential analysis\n",
    "diff = np.tile(before.values[0],(len(after), 1,1))-after.values        ##single reference"
   ]
  },
  {
   "cell_type": "code",
   "execution_count": null,
   "metadata": {},
   "outputs": [],
   "source": [
    "diff[np.where(diff>-0.7)] = np.nan\n",
    "diff_vh = xr.DataArray(diff, coords=dict(date=time, y=before.lat, x=before.lon, spatial_ref=before.spatial_ref), dims=(\"date\", \"y\", \"x\"))\n",
    "diff_vh.plot(col='date', robust=True, y='y', x='x', col_wrap=4, cmap='RdBu')"
   ]
  },
  {
   "cell_type": "code",
   "execution_count": null,
   "metadata": {},
   "outputs": [],
   "source": [
    "before = (ds.sel(band=3).rio.clip([wkt.loads(aoi)], \"epsg:4326\").isel(time=slice(0, len(ds.time)-1)))\n",
    "after = (ds.sel(band=3).rio.clip([wkt.loads(aoi)], \"epsg:4326\").isel(time=slice(1, len(ds.time))))\n",
    "# diff = before.values-after.values        ## sequential analysis\n",
    "diff = np.tile(before.values[0],(len(after), 1,1))-after.values        ##single reference"
   ]
  },
  {
   "cell_type": "code",
   "execution_count": null,
   "metadata": {},
   "outputs": [],
   "source": [
    "diff_ratio = xr.DataArray(diff, coords=dict(date=time, y=before.lat, x=before.lon, spatial_ref=before.spatial_ref), dims=(\"date\", \"y\", \"x\"))\n",
    "diff_ratio.plot(col='date', robust=True, y='y', x='x', col_wrap=4)"
   ]
  }
 ],
 "metadata": {
  "kernelspec": {
   "display_name": "Python [conda env:notebook] *",
   "language": "python",
   "name": "conda-env-notebook-py"
  },
  "language_info": {
   "codemirror_mode": {
    "name": "ipython",
    "version": 3
   },
   "file_extension": ".py",
   "mimetype": "text/x-python",
   "name": "python",
   "nbconvert_exporter": "python",
   "pygments_lexer": "ipython3",
   "version": "3.10.14"
  }
 },
 "nbformat": 4,
 "nbformat_minor": 4
}
